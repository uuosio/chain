{
 "cells": [
  {
   "cell_type": "code",
   "execution_count": 2,
   "metadata": {},
   "outputs": [],
   "source": [
    "from uuoskit import uuosapi"
   ]
  },
  {
   "cell_type": "code",
   "execution_count": 4,
   "metadata": {},
   "outputs": [
    {
     "data": {
      "text/plain": [
       "{'public': 'EOS4wKXFtDTaeRdo6TzZmrydJK5P2R3r2n6R5ta1U1bVMh4QmXGyD',\n",
       " 'private': '5KQ9oGsuFsbf142mv11cMCHFvctHCqmtWGicW45Q57mjheg8fZM'}"
      ]
     },
     "execution_count": 4,
     "metadata": {},
     "output_type": "execute_result"
    }
   ],
   "source": [
    "uuosapi.create_key()"
   ]
  },
  {
   "cell_type": "code",
   "execution_count": 7,
   "metadata": {},
   "outputs": [
    {
     "data": {
      "text/plain": [
       "'SIG_K1_JzqAoBry3BaJnQEqZB8myMnaDd4ubWbhpRWMcmakqWwytnNGcRqaXfUmDR2TYnjyL8Ya6odZPty5uQuyGBMrK6zxQqapsh'"
      ]
     },
     "execution_count": 7,
     "metadata": {},
     "output_type": "execute_result"
    }
   ],
   "source": [
    "private = '5KQ9oGsuFsbf142mv11cMCHFvctHCqmtWGicW45Q57mjheg8fZM'\n",
    "import hashlib\n",
    "h = hashlib.sha256(b\"hello,world\")\n",
    "uuosapi.sign_digest(private, h.hexdigest())\n"
   ]
  },
  {
   "cell_type": "code",
   "execution_count": 9,
   "metadata": {},
   "outputs": [
    {
     "name": "stdout",
     "output_type": "stream",
     "text": [
      "Help on method pack_args in module uuoskit.chainnative:\n",
      "\n",
      "pack_args(account, action, args) method of uuoskit.chainapi_sync.ChainApi instance\n",
      "\n"
     ]
    }
   ],
   "source": [
    "help(uuosapi.pack_args)"
   ]
  },
  {
   "cell_type": "code",
   "execution_count": 22,
   "metadata": {},
   "outputs": [],
   "source": [
    "abi = '''\n",
    "{\n",
    "    \"version\": \"eosio::abi/1.1\",\n",
    "    \"structs\": [\n",
    "        {\n",
    "            \"name\": \"sig\",\n",
    "            \"base\": \"\",\n",
    "            \"fields\": [\n",
    "                {\n",
    "                    \"name\": \"sig\",\n",
    "                    \"type\": \"signature\"\n",
    "                }\n",
    "            ]\n",
    "        },\n",
    "        {\n",
    "            \"name\": \"pub\",\n",
    "            \"base\": \"\",\n",
    "            \"fields\": [\n",
    "                {\n",
    "                    \"name\": \"pub\",\n",
    "                    \"type\": \"public_key\"\n",
    "                }\n",
    "            ]\n",
    "        }\n",
    "    ],\n",
    "    \"types\": [],\n",
    "    \"actions\": [\n",
    "    ],\n",
    "    \"tables\": [\n",
    "    ],\n",
    "    \"ricardian_clauses\": [],\n",
    "    \"variants\": [],\n",
    "    \"abi_extensions\": [],\n",
    "    \"error_messages\": [],\n",
    "    \"abi_extensions\": []\n",
    "}\n",
    "\n",
    "'''\n",
    "uuosapi.set_abi('hello', abi)"
   ]
  },
  {
   "cell_type": "code",
   "execution_count": 21,
   "metadata": {},
   "outputs": [
    {
     "data": {
      "text/plain": [
       "68"
      ]
     },
     "execution_count": 21,
     "metadata": {},
     "output_type": "execute_result"
    }
   ],
   "source": [
    "len('0002066d4f3d22dda8d30377e8bb31f6b68f5a861d205145581342642c5b33c42d4d')"
   ]
  },
  {
   "cell_type": "code",
   "execution_count": 23,
   "metadata": {},
   "outputs": [
    {
     "data": {
      "text/plain": [
       "(66,\n",
       " b'\\x00\\x1f*\\x9ef\\xe8\\xfb\\xbf\\xf1\\x1c_\\x88\\xa5\\xa5\\xcb\\xacz\\x07\\x90xk\\x06\\xbd?\\xb2\\\\\\xa6g\\xcc,*\\xe5G\\x01\\x04[g6o\\x1e\\xdefuU\\xb4\\xf2\\xeaJ\\xab\\x01\\x08\\t\\x0e={~\\x81\\xed\\x1b\\x0b\\x06\\xf5o\\xa6\\x19\\xeb')"
      ]
     },
     "execution_count": 23,
     "metadata": {},
     "output_type": "execute_result"
    }
   ],
   "source": [
    "a = uuosapi.pack_abi_type('hello', 'sig', {'sig':'SIG_K1_JzqAoBry3BaJnQEqZB8myMnaDd4ubWbhpRWMcmakqWwytnNGcRqaXfUmDR2TYnjyL8Ya6odZPty5uQuyGBMrK6zxQqapsh'})\n",
    "len(a), a"
   ]
  },
  {
   "cell_type": "code",
   "execution_count": 25,
   "metadata": {},
   "outputs": [
    {
     "data": {
      "text/plain": [
       "(34, '0002066d4f3d22dda8d30377e8bb31f6b68f5a861d205145581342642c5b33c42d4d')"
      ]
     },
     "execution_count": 25,
     "metadata": {},
     "output_type": "execute_result"
    }
   ],
   "source": [
    "a = uuosapi.pack_abi_type('hello', 'pub', {'pub':'EOS4wKXFtDTaeRdo6TzZmrydJK5P2R3r2n6R5ta1U1bVMh4QmXGyD'})\n",
    "len(a), a.hex()\n",
    "\n"
   ]
  },
  {
   "cell_type": "code",
   "execution_count": 29,
   "metadata": {},
   "outputs": [
    {
     "data": {
      "text/plain": [
       "'{\"expiration\":\"2021-08-12T11:59:21\",\"ref_block_num\":31348,\"ref_block_prefix\":3939342682,\"max_net_usage_words\":0,\"max_cpu_usage_ms\":0,\"delay_sec\":0,\"context_free_actions\":[],\"actions\":[{\"account\":\"hello\",\"name\":\"sayhello\",\"authorization\":[{\"actor\":\"hello\",\"permission\":\"active\"}],\"data\":\"68656c6c6f2c776f726c6464646464\"}],\"transaction_extensions\":[]}'"
      ]
     },
     "execution_count": 29,
     "metadata": {},
     "output_type": "execute_result"
    }
   ],
   "source": [
    "b = bytes.fromhex('190d1561747a5a99cdea000000000100000000001aa36a0000003446d5bcc10100000000001aa36a00000000a8ed32320f68656c6c6f2c776f726c646464646400')\n",
    "uuosapi.unpack_transaction(b)\n"
   ]
  },
  {
   "cell_type": "code",
   "execution_count": null,
   "metadata": {},
   "outputs": [],
   "source": []
  }
 ],
 "metadata": {
  "kernelspec": {
   "display_name": "Python 3",
   "language": "python",
   "name": "python3"
  },
  "language_info": {
   "codemirror_mode": {
    "name": "ipython",
    "version": 3
   },
   "file_extension": ".py",
   "mimetype": "text/x-python",
   "name": "python",
   "nbconvert_exporter": "python",
   "pygments_lexer": "ipython3",
   "version": "3.7.4"
  }
 },
 "nbformat": 4,
 "nbformat_minor": 2
}
